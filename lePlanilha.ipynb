{
 "cells": [
  {
   "cell_type": "code",
   "execution_count": null,
   "metadata": {},
   "outputs": [
    {
     "name": "stdout",
     "output_type": "stream",
     "text": [
      "email: emailaleatorio1@gmail.com + descricao Curso de Excel\n",
      "email: emailaleatorio2@gmail.com + descricao Curso de Excel\n",
      "email: emailaleatorio3@gmail.com + descricao Curso de Excel\n",
      "email: emailaleatorio4@gmail.com + descricao Curso de VBA\n",
      "email: emailaleatorio5@gmail.com + descricao Curso de Python\n",
      "email: emailaleatorio6@gmail.com + descricao Curso de Power BI\n",
      "email: emailaleatorio7@gmail.com + descricao Curso de Power BI\n",
      "email: emailaleatorio8@gmail.com + descricao Curso de Python\n",
      "email: emailaleatorio9@gmail.com + descricao Curso de Power BI\n",
      "email: emailaleatorio10@gmail.com + descricao Curso de Python\n",
      "email: emailaleatorio11@gmail.com + descricao Curso de Python\n",
      "email: emailaleatorio12@gmail.com + descricao Curso de Python\n",
      "email: emailaleatorio13@gmail.com + descricao Curso de Python\n",
      "email: emailaleatorio14@gmail.com + descricao Curso de Python\n"
     ]
    }
   ],
   "source": [
    "import pandas as pd\n",
    "\n",
    "tabela = pd.read_excel(\"Emitir.xlsx\")\n",
    "\n",
    "for i, cpf in enumerate(tabela[\"CPF\"]):\n",
    "    email = tabela.loc[i,\"Email\"]\n",
    "    descricao = tabela.loc[i,\"Descrição\"]\n",
    "    "
   ]
  }
 ],
 "metadata": {
  "kernelspec": {
   "display_name": "Python 3",
   "language": "python",
   "name": "python3"
  },
  "language_info": {
   "codemirror_mode": {
    "name": "ipython",
    "version": 3
   },
   "file_extension": ".py",
   "mimetype": "text/x-python",
   "name": "python",
   "nbconvert_exporter": "python",
   "pygments_lexer": "ipython3",
   "version": "3.12.4"
  }
 },
 "nbformat": 4,
 "nbformat_minor": 2
}
