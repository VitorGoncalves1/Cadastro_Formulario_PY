{
 "cells": [
  {
   "cell_type": "code",
   "execution_count": null,
   "metadata": {},
   "outputs": [],
   "source": [
    "from selenium import webdriver\n",
    "from webdriver_manager.chrome import ChromeDriverManager\n",
    "from selenium.webdriver.chrome.service import Service\n",
    "from selenium.webdriver.common.by import By\n",
    "from selenium.webdriver.support.ui import WebDriverWait\n",
    "from selenium.webdriver.support import expected_conditions as EC\n",
    "import pandas as pd\n",
    "\n",
    "# Ler a planilha\n",
    "planilha = pd.read_excel(\"Emitir.xlsx\")\n",
    "\n",
    "# Instalação mais recente do ChromeDriver\n",
    "servico = Service(ChromeDriverManager().install())\n",
    "navegador = webdriver.Chrome(service=servico)\n",
    "\n",
    "# Acessa o site\n",
    "navegador.get(\"https://docs.google.com/forms/d/1mtKy3RiR-jsmxKFWrY17Z-1O_f77_ty7wqRKotwuc7w/viewform?edit_requested=true\") \n",
    "\n",
    "# Configura espera explícita\n",
    "wait = WebDriverWait(navegador, 20)\n",
    "\n",
    "# Lendo os dados da planilha em cada linha\n",
    "for i, cpf_planilha in enumerate(planilha['CPF']):\n",
    "    email_planilha = planilha.loc[i, 'Email']\n",
    "    descricao_planilha = planilha.loc[i, 'Descrição']\n",
    "\n",
    "    # Cadastro CPF, esperando o elemento estar clicavel \n",
    "    cpf = wait.until(EC.element_to_be_clickable((By.XPATH, \"//*[@id='mG61Hd']/div[2]/div/div[2]/div[1]/div/div/div[2]/div/div[1]/div/div[1]/input\")))\n",
    "    cpf.send_keys(cpf_planilha)\n",
    "\n",
    "    # Cadastra email\n",
    "    email = wait.until(EC.element_to_be_clickable((By.XPATH, '//*[@id=\"mG61Hd\"]/div[2]/div/div[2]/div[2]/div/div/div[2]/div/div[1]/div/div[1]/input')))\n",
    "    email.send_keys(email_planilha)\n",
    "\n",
    "    # Cadastro Descrição\n",
    "    descricao = wait.until(EC.element_to_be_clickable((By.XPATH, '//*[@id=\"mG61Hd\"]/div[2]/div/div[2]/div[3]/div/div/div[2]/div/div[1]/div/div[1]/input')))\n",
    "    descricao.send_keys(descricao_planilha)\n",
    "\n",
    "    # Enviar\n",
    "    enviar = wait.until(EC.element_to_be_clickable((By.XPATH, '//*[@id=\"mG61Hd\"]/div[2]/div/div[3]/div[1]/div[1]/div/span')))\n",
    "    enviar.click()\n",
    "\n",
    "    # Voltar à tela principal novamente\n",
    "    principal = wait.until(EC.element_to_be_clickable((By.XPATH, \"/html/body/div[1]/div[2]/div[1]/div/div[4]/a\")))\n",
    "    principal.click()\n",
    "\n",
    "# Fecha o navegador\n",
    "navegador.quit()\n"
   ]
  }
 ],
 "metadata": {
  "kernelspec": {
   "display_name": "Python 3",
   "language": "python",
   "name": "python3"
  },
  "language_info": {
   "codemirror_mode": {
    "name": "ipython",
    "version": 3
   },
   "file_extension": ".py",
   "mimetype": "text/x-python",
   "name": "python",
   "nbconvert_exporter": "python",
   "pygments_lexer": "ipython3",
   "version": "3.12.4"
  }
 },
 "nbformat": 4,
 "nbformat_minor": 4
}
